{
 "metadata": {
  "language_info": {
   "codemirror_mode": {
    "name": "ipython",
    "version": 3
   },
   "file_extension": ".py",
   "mimetype": "text/x-python",
   "name": "python",
   "nbconvert_exporter": "python",
   "pygments_lexer": "ipython3",
   "version": 3
  },
  "orig_nbformat": 2
 },
 "nbformat": 4,
 "nbformat_minor": 2,
 "cells": [
  {
   "cell_type": "code",
   "execution_count": null,
   "metadata": {},
   "outputs": [],
   "source": [
    "from pathlib import Path\n",
    "import pandas as pd\n",
    "import numpy as np\n",
    "\n",
    "paths = Path.cwd() / \"data\"\n",
    "paths = list(paths.glob(\"*.*\"))\n",
    "\n",
    "df = pd.read_csv(paths[2], dtype={\"DAY_OF_WEEK\":\"category\",\"ACTIVITY_NAME\":\"category\"}, parse_dates=[0]) \n",
    "df"
   ]
  }
 ]
}