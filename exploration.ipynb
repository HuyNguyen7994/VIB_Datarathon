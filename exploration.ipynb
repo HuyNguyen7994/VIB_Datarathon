{
 "metadata": {
  "language_info": {
   "codemirror_mode": {
    "name": "ipython",
    "version": 3
   },
   "file_extension": ".py",
   "mimetype": "text/x-python",
   "name": "python",
   "nbconvert_exporter": "python",
   "pygments_lexer": "ipython3",
   "version": "3.9.2"
  },
  "orig_nbformat": 2,
  "kernelspec": {
   "name": "python392jvsc74a57bd061182829128b0cc4df10155d0fc62bffd48cf045e1139c0d69b75f1401419592",
   "display_name": "Python 3.9.2 64-bit ('_sandbox': conda)"
  },
  "metadata": {
   "interpreter": {
    "hash": "61182829128b0cc4df10155d0fc62bffd48cf045e1139c0d69b75f1401419592"
   }
  }
 },
 "nbformat": 4,
 "nbformat_minor": 2,
 "cells": [
  {
   "cell_type": "code",
   "execution_count": 1,
   "metadata": {},
   "outputs": [],
   "source": [
    "from pathlib import Path\n",
    "import pandas as pd\n",
    "import numpy as np\n",
    "\n",
    "paths = Path.cwd() / \"data\"\n",
    "paths = list(paths.glob(\"*.*\"))"
   ]
  },
  {
   "source": [
    "## Examine Dataset 1"
   ],
   "cell_type": "markdown",
   "metadata": {}
  },
  {
   "cell_type": "code",
   "execution_count": 9,
   "metadata": {},
   "outputs": [
    {
     "output_type": "execute_result",
     "data": {
      "text/plain": [
       "        CUSTOMER_NUMBER CLIENT_SEX CLIENT_CREATE_DATE DATE_OF_BIRTH  \\\n",
       "0                639362          M         2019-04-23    1996-01-01   \n",
       "1                452440          M         2019-01-11    1999-10-10   \n",
       "2                326290          F         2019-05-27    1996-06-29   \n",
       "3                 20802          M         2019-11-12    1992-08-07   \n",
       "4                114244          M         2019-03-29    1973-10-15   \n",
       "...                 ...        ...                ...           ...   \n",
       "290218           174454          F         2019-07-08    1997-12-09   \n",
       "290219           195828          F         2019-10-10    1999-06-13   \n",
       "290220           234465          M         2019-01-23    1974-12-10   \n",
       "290221           119456          M         2019-04-09    1995-06-15   \n",
       "290222           590903          M         2019-07-19    1998-03-28   \n",
       "\n",
       "        STAFF_VIB IB_REGISTER_DATE EB_REGISTER_CHANNEL    SMS VERIFY_METHOD  \n",
       "0           False       2019-04-23              BRANCH   True           SMS  \n",
       "1           False       2019-01-11              BRANCH   True     SMART_OTP  \n",
       "2           False       2019-05-27              BRANCH   True           SMS  \n",
       "3           False       2019-11-12              BRANCH   True     SMART_OTP  \n",
       "4           False       2019-03-29              BRANCH  False           SMS  \n",
       "...           ...              ...                 ...    ...           ...  \n",
       "290218      False              NaT                 NaN   True           NaN  \n",
       "290219      False              NaT                 NaN   True           NaN  \n",
       "290220      False              NaT                 NaN   True           NaN  \n",
       "290221      False              NaT                 NaN   True           NaN  \n",
       "290222      False              NaT                 NaN   True           NaN  \n",
       "\n",
       "[290223 rows x 9 columns]"
      ],
      "text/html": "<div>\n<style scoped>\n    .dataframe tbody tr th:only-of-type {\n        vertical-align: middle;\n    }\n\n    .dataframe tbody tr th {\n        vertical-align: top;\n    }\n\n    .dataframe thead th {\n        text-align: right;\n    }\n</style>\n<table border=\"1\" class=\"dataframe\">\n  <thead>\n    <tr style=\"text-align: right;\">\n      <th></th>\n      <th>CUSTOMER_NUMBER</th>\n      <th>CLIENT_SEX</th>\n      <th>CLIENT_CREATE_DATE</th>\n      <th>DATE_OF_BIRTH</th>\n      <th>STAFF_VIB</th>\n      <th>IB_REGISTER_DATE</th>\n      <th>EB_REGISTER_CHANNEL</th>\n      <th>SMS</th>\n      <th>VERIFY_METHOD</th>\n    </tr>\n  </thead>\n  <tbody>\n    <tr>\n      <th>0</th>\n      <td>639362</td>\n      <td>M</td>\n      <td>2019-04-23</td>\n      <td>1996-01-01</td>\n      <td>False</td>\n      <td>2019-04-23</td>\n      <td>BRANCH</td>\n      <td>True</td>\n      <td>SMS</td>\n    </tr>\n    <tr>\n      <th>1</th>\n      <td>452440</td>\n      <td>M</td>\n      <td>2019-01-11</td>\n      <td>1999-10-10</td>\n      <td>False</td>\n      <td>2019-01-11</td>\n      <td>BRANCH</td>\n      <td>True</td>\n      <td>SMART_OTP</td>\n    </tr>\n    <tr>\n      <th>2</th>\n      <td>326290</td>\n      <td>F</td>\n      <td>2019-05-27</td>\n      <td>1996-06-29</td>\n      <td>False</td>\n      <td>2019-05-27</td>\n      <td>BRANCH</td>\n      <td>True</td>\n      <td>SMS</td>\n    </tr>\n    <tr>\n      <th>3</th>\n      <td>20802</td>\n      <td>M</td>\n      <td>2019-11-12</td>\n      <td>1992-08-07</td>\n      <td>False</td>\n      <td>2019-11-12</td>\n      <td>BRANCH</td>\n      <td>True</td>\n      <td>SMART_OTP</td>\n    </tr>\n    <tr>\n      <th>4</th>\n      <td>114244</td>\n      <td>M</td>\n      <td>2019-03-29</td>\n      <td>1973-10-15</td>\n      <td>False</td>\n      <td>2019-03-29</td>\n      <td>BRANCH</td>\n      <td>False</td>\n      <td>SMS</td>\n    </tr>\n    <tr>\n      <th>...</th>\n      <td>...</td>\n      <td>...</td>\n      <td>...</td>\n      <td>...</td>\n      <td>...</td>\n      <td>...</td>\n      <td>...</td>\n      <td>...</td>\n      <td>...</td>\n    </tr>\n    <tr>\n      <th>290218</th>\n      <td>174454</td>\n      <td>F</td>\n      <td>2019-07-08</td>\n      <td>1997-12-09</td>\n      <td>False</td>\n      <td>NaT</td>\n      <td>NaN</td>\n      <td>True</td>\n      <td>NaN</td>\n    </tr>\n    <tr>\n      <th>290219</th>\n      <td>195828</td>\n      <td>F</td>\n      <td>2019-10-10</td>\n      <td>1999-06-13</td>\n      <td>False</td>\n      <td>NaT</td>\n      <td>NaN</td>\n      <td>True</td>\n      <td>NaN</td>\n    </tr>\n    <tr>\n      <th>290220</th>\n      <td>234465</td>\n      <td>M</td>\n      <td>2019-01-23</td>\n      <td>1974-12-10</td>\n      <td>False</td>\n      <td>NaT</td>\n      <td>NaN</td>\n      <td>True</td>\n      <td>NaN</td>\n    </tr>\n    <tr>\n      <th>290221</th>\n      <td>119456</td>\n      <td>M</td>\n      <td>2019-04-09</td>\n      <td>1995-06-15</td>\n      <td>False</td>\n      <td>NaT</td>\n      <td>NaN</td>\n      <td>True</td>\n      <td>NaN</td>\n    </tr>\n    <tr>\n      <th>290222</th>\n      <td>590903</td>\n      <td>M</td>\n      <td>2019-07-19</td>\n      <td>1998-03-28</td>\n      <td>False</td>\n      <td>NaT</td>\n      <td>NaN</td>\n      <td>True</td>\n      <td>NaN</td>\n    </tr>\n  </tbody>\n</table>\n<p>290223 rows × 9 columns</p>\n</div>"
     },
     "metadata": {},
     "execution_count": 9
    }
   ],
   "source": [
    "df1 = pd.read_csv(paths[1], dtype={\"CLIENT_SEX\":\"category\",\"STAFF_VIB\":\"category\",\"EB_REGISTER_CHANNEL\":\"category\",\"SMS\":\"category\",\"VERIFY_METHOD\":\"category\"}, parse_dates=[2,3,5]) \n",
    "df1[['STAFF_VIB', 'SMS']] = df1[['STAFF_VIB', 'SMS']].replace({'Y':True,'N':False})\n",
    "df1 = df1.astype(dict(zip(['STAFF_VIB', 'SMS'],['bool',]*2)))\n",
    "df1['DATE_OF_BIRTH'] = pd.to_datetime(df1['DATE_OF_BIRTH'], infer_datetime_format=True, errors='coerce')\n",
    "df1"
   ]
  },
  {
   "cell_type": "code",
   "execution_count": 10,
   "metadata": {},
   "outputs": [
    {
     "output_type": "execute_result",
     "data": {
      "text/plain": [
       "CUSTOMER_NUMBER                 int64\n",
       "CLIENT_SEX                   category\n",
       "CLIENT_CREATE_DATE     datetime64[ns]\n",
       "DATE_OF_BIRTH          datetime64[ns]\n",
       "STAFF_VIB                        bool\n",
       "IB_REGISTER_DATE       datetime64[ns]\n",
       "EB_REGISTER_CHANNEL          category\n",
       "SMS                              bool\n",
       "VERIFY_METHOD                category\n",
       "dtype: object"
      ]
     },
     "metadata": {},
     "execution_count": 10
    }
   ],
   "source": [
    "df1.dtypes"
   ]
  },
  {
   "cell_type": "code",
   "execution_count": null,
   "metadata": {},
   "outputs": [],
   "source": []
  },
  {
   "source": [
    "## Examine Dataset 2"
   ],
   "cell_type": "markdown",
   "metadata": {}
  },
  {
   "cell_type": "code",
   "execution_count": 2,
   "metadata": {},
   "outputs": [
    {
     "output_type": "execute_result",
     "data": {
      "text/plain": [
       "        TRANS_LV1              TRANS_LV2 TRANS_DATE DAY_OF_WEEK  TRANS_HOUR  \\\n",
       "0        Transfer            Outside_VIB 2019-01-03         Thu          17   \n",
       "1        Transfer            Outside_VIB 2019-07-01         Mon          13   \n",
       "2        Transfer            Outside_VIB 2019-01-02         Wed          15   \n",
       "3         Payment  Credit_card_repayment 2019-01-03         Thu          14   \n",
       "4         Payment  Credit_card_repayment 2019-01-28         Mon          22   \n",
       "...           ...                    ...        ...         ...         ...   \n",
       "1418025  Transfer            Outside_VIB 2019-12-31         Tue          16   \n",
       "1418026   Payment  Credit_card_repayment 2019-12-31         Tue          11   \n",
       "1418027   Payment  Credit_card_repayment 2019-12-31         Tue          16   \n",
       "1418028   Payment  Credit_card_repayment 2019-12-31         Tue          13   \n",
       "1418029  Transfer            Outside_VIB 2019-12-31         Tue          20   \n",
       "\n",
       "         TRANS_NO  TRANS_AMOUNT  CUSTOMER_NUMBER  \n",
       "0               2   189771864.0           701619  \n",
       "1               2    30224900.0           701619  \n",
       "2               1      100000.0           701619  \n",
       "3               1    85000000.0           262123  \n",
       "4               1    83000000.0           262123  \n",
       "...           ...           ...              ...  \n",
       "1418025         1     8400000.0             9852  \n",
       "1418026         2      499000.0           807647  \n",
       "1418027         1    20957808.0           791916  \n",
       "1418028         1     2000000.0           469868  \n",
       "1418029         1      200000.0           761578  \n",
       "\n",
       "[1418030 rows x 8 columns]"
      ],
      "text/html": "<div>\n<style scoped>\n    .dataframe tbody tr th:only-of-type {\n        vertical-align: middle;\n    }\n\n    .dataframe tbody tr th {\n        vertical-align: top;\n    }\n\n    .dataframe thead th {\n        text-align: right;\n    }\n</style>\n<table border=\"1\" class=\"dataframe\">\n  <thead>\n    <tr style=\"text-align: right;\">\n      <th></th>\n      <th>TRANS_LV1</th>\n      <th>TRANS_LV2</th>\n      <th>TRANS_DATE</th>\n      <th>DAY_OF_WEEK</th>\n      <th>TRANS_HOUR</th>\n      <th>TRANS_NO</th>\n      <th>TRANS_AMOUNT</th>\n      <th>CUSTOMER_NUMBER</th>\n    </tr>\n  </thead>\n  <tbody>\n    <tr>\n      <th>0</th>\n      <td>Transfer</td>\n      <td>Outside_VIB</td>\n      <td>2019-01-03</td>\n      <td>Thu</td>\n      <td>17</td>\n      <td>2</td>\n      <td>189771864.0</td>\n      <td>701619</td>\n    </tr>\n    <tr>\n      <th>1</th>\n      <td>Transfer</td>\n      <td>Outside_VIB</td>\n      <td>2019-07-01</td>\n      <td>Mon</td>\n      <td>13</td>\n      <td>2</td>\n      <td>30224900.0</td>\n      <td>701619</td>\n    </tr>\n    <tr>\n      <th>2</th>\n      <td>Transfer</td>\n      <td>Outside_VIB</td>\n      <td>2019-01-02</td>\n      <td>Wed</td>\n      <td>15</td>\n      <td>1</td>\n      <td>100000.0</td>\n      <td>701619</td>\n    </tr>\n    <tr>\n      <th>3</th>\n      <td>Payment</td>\n      <td>Credit_card_repayment</td>\n      <td>2019-01-03</td>\n      <td>Thu</td>\n      <td>14</td>\n      <td>1</td>\n      <td>85000000.0</td>\n      <td>262123</td>\n    </tr>\n    <tr>\n      <th>4</th>\n      <td>Payment</td>\n      <td>Credit_card_repayment</td>\n      <td>2019-01-28</td>\n      <td>Mon</td>\n      <td>22</td>\n      <td>1</td>\n      <td>83000000.0</td>\n      <td>262123</td>\n    </tr>\n    <tr>\n      <th>...</th>\n      <td>...</td>\n      <td>...</td>\n      <td>...</td>\n      <td>...</td>\n      <td>...</td>\n      <td>...</td>\n      <td>...</td>\n      <td>...</td>\n    </tr>\n    <tr>\n      <th>1418025</th>\n      <td>Transfer</td>\n      <td>Outside_VIB</td>\n      <td>2019-12-31</td>\n      <td>Tue</td>\n      <td>16</td>\n      <td>1</td>\n      <td>8400000.0</td>\n      <td>9852</td>\n    </tr>\n    <tr>\n      <th>1418026</th>\n      <td>Payment</td>\n      <td>Credit_card_repayment</td>\n      <td>2019-12-31</td>\n      <td>Tue</td>\n      <td>11</td>\n      <td>2</td>\n      <td>499000.0</td>\n      <td>807647</td>\n    </tr>\n    <tr>\n      <th>1418027</th>\n      <td>Payment</td>\n      <td>Credit_card_repayment</td>\n      <td>2019-12-31</td>\n      <td>Tue</td>\n      <td>16</td>\n      <td>1</td>\n      <td>20957808.0</td>\n      <td>791916</td>\n    </tr>\n    <tr>\n      <th>1418028</th>\n      <td>Payment</td>\n      <td>Credit_card_repayment</td>\n      <td>2019-12-31</td>\n      <td>Tue</td>\n      <td>13</td>\n      <td>1</td>\n      <td>2000000.0</td>\n      <td>469868</td>\n    </tr>\n    <tr>\n      <th>1418029</th>\n      <td>Transfer</td>\n      <td>Outside_VIB</td>\n      <td>2019-12-31</td>\n      <td>Tue</td>\n      <td>20</td>\n      <td>1</td>\n      <td>200000.0</td>\n      <td>761578</td>\n    </tr>\n  </tbody>\n</table>\n<p>1418030 rows × 8 columns</p>\n</div>"
     },
     "metadata": {},
     "execution_count": 2
    }
   ],
   "source": [
    "df2 = pd.read_csv(paths[2], dtype={\"TRANS_LV1\":\"category\",\"TRANS_LV2\":\"category\",\"DAY_OF_WEEK\":\"category\"}, parse_dates=[2]) \n",
    "df2"
   ]
  },
  {
   "cell_type": "code",
   "execution_count": 12,
   "metadata": {},
   "outputs": [
    {
     "output_type": "execute_result",
     "data": {
      "text/plain": [
       "TRANS_LV1                category\n",
       "TRANS_LV2                category\n",
       "TRANS_DATE         datetime64[ns]\n",
       "DAY_OF_WEEK              category\n",
       "TRANS_HOUR                  int64\n",
       "TRANS_NO                    int64\n",
       "TRANS_AMOUNT              float64\n",
       "CUSTOMER_NUMBER             int64\n",
       "dtype: object"
      ]
     },
     "metadata": {},
     "execution_count": 12
    }
   ],
   "source": [
    "df2.dtypes"
   ]
  },
  {
   "cell_type": "code",
   "execution_count": 23,
   "metadata": {},
   "outputs": [
    {
     "output_type": "execute_result",
     "data": {
      "text/plain": [
       "Index(['Cable', 'Credit_card_repayment', 'Game', 'Insurance_payment',\n",
       "       'Lending_repayment', 'Lifestyle_payment', 'Mobile', 'Outside_VIB',\n",
       "       'QR_payment', 'Utilities_payment', 'VNDirect', 'Within_VIB', 'eWallet',\n",
       "       'MCPP'],\n",
       "      dtype='object')"
      ]
     },
     "metadata": {},
     "execution_count": 23
    }
   ],
   "source": [
    "df2.TRANS_LV2.cat.categories"
   ]
  },
  {
   "cell_type": "code",
   "execution_count": 9,
   "metadata": {},
   "outputs": [],
   "source": [
    "df2[df2[\"CUSTOMER_NUMBER\"] == 630178].sort_values([\"TRANS_DATE\",\"TRANS_HOUR\"]).to_csv(\"df2_630178.csv\")"
   ]
  },
  {
   "source": [
    "## Examine Dataset 3"
   ],
   "cell_type": "markdown",
   "metadata": {}
  },
  {
   "cell_type": "code",
   "execution_count": 7,
   "metadata": {},
   "outputs": [
    {
     "output_type": "execute_result",
     "data": {
      "text/plain": [
       "         ACTIVITY_DATE DAY_OF_WEEK  ACTIVITY_HOUR  ACTIVITY_NO  \\\n",
       "0           2019-01-22         Tue             20            2   \n",
       "1           2019-01-10         Thu             18           16   \n",
       "2           2019-01-26         Sat             17           15   \n",
       "3           2019-01-02         Wed              9           27   \n",
       "4           2019-01-19         Sat              8            3   \n",
       "...                ...         ...            ...          ...   \n",
       "16132670    2019-11-01         Fri             11            1   \n",
       "16132671    2019-12-02         Mon             15            1   \n",
       "16132672    2019-11-19         Tue             17            1   \n",
       "16132673    2019-11-13         Wed             10            5   \n",
       "16132674    2019-12-10         Tue             11            6   \n",
       "\n",
       "          CUSTOMER_NUMBER              ACTIVITY_NAME  \n",
       "0                  630178      MB_INTEREST_RATE_VIEW  \n",
       "1                  630178      MB_INTEREST_RATE_VIEW  \n",
       "2                  630178      MB_INTEREST_RATE_VIEW  \n",
       "3                  630178      MB_INTEREST_RATE_VIEW  \n",
       "4                  630178      MB_INTEREST_RATE_VIEW  \n",
       "...                   ...                        ...  \n",
       "16132670           327258  TRANSFER_VIB_ACCOUNT_BULK  \n",
       "16132671           327258  TRANSFER_VIB_ACCOUNT_BULK  \n",
       "16132672           882344  TRANSFER_VIB_ACCOUNT_BULK  \n",
       "16132673           199908            RB_BILLPAY_PSTN  \n",
       "16132674           199908            RB_BILLPAY_PSTN  \n",
       "\n",
       "[16132675 rows x 6 columns]"
      ],
      "text/html": "<div>\n<style scoped>\n    .dataframe tbody tr th:only-of-type {\n        vertical-align: middle;\n    }\n\n    .dataframe tbody tr th {\n        vertical-align: top;\n    }\n\n    .dataframe thead th {\n        text-align: right;\n    }\n</style>\n<table border=\"1\" class=\"dataframe\">\n  <thead>\n    <tr style=\"text-align: right;\">\n      <th></th>\n      <th>ACTIVITY_DATE</th>\n      <th>DAY_OF_WEEK</th>\n      <th>ACTIVITY_HOUR</th>\n      <th>ACTIVITY_NO</th>\n      <th>CUSTOMER_NUMBER</th>\n      <th>ACTIVITY_NAME</th>\n    </tr>\n  </thead>\n  <tbody>\n    <tr>\n      <th>0</th>\n      <td>2019-01-22</td>\n      <td>Tue</td>\n      <td>20</td>\n      <td>2</td>\n      <td>630178</td>\n      <td>MB_INTEREST_RATE_VIEW</td>\n    </tr>\n    <tr>\n      <th>1</th>\n      <td>2019-01-10</td>\n      <td>Thu</td>\n      <td>18</td>\n      <td>16</td>\n      <td>630178</td>\n      <td>MB_INTEREST_RATE_VIEW</td>\n    </tr>\n    <tr>\n      <th>2</th>\n      <td>2019-01-26</td>\n      <td>Sat</td>\n      <td>17</td>\n      <td>15</td>\n      <td>630178</td>\n      <td>MB_INTEREST_RATE_VIEW</td>\n    </tr>\n    <tr>\n      <th>3</th>\n      <td>2019-01-02</td>\n      <td>Wed</td>\n      <td>9</td>\n      <td>27</td>\n      <td>630178</td>\n      <td>MB_INTEREST_RATE_VIEW</td>\n    </tr>\n    <tr>\n      <th>4</th>\n      <td>2019-01-19</td>\n      <td>Sat</td>\n      <td>8</td>\n      <td>3</td>\n      <td>630178</td>\n      <td>MB_INTEREST_RATE_VIEW</td>\n    </tr>\n    <tr>\n      <th>...</th>\n      <td>...</td>\n      <td>...</td>\n      <td>...</td>\n      <td>...</td>\n      <td>...</td>\n      <td>...</td>\n    </tr>\n    <tr>\n      <th>16132670</th>\n      <td>2019-11-01</td>\n      <td>Fri</td>\n      <td>11</td>\n      <td>1</td>\n      <td>327258</td>\n      <td>TRANSFER_VIB_ACCOUNT_BULK</td>\n    </tr>\n    <tr>\n      <th>16132671</th>\n      <td>2019-12-02</td>\n      <td>Mon</td>\n      <td>15</td>\n      <td>1</td>\n      <td>327258</td>\n      <td>TRANSFER_VIB_ACCOUNT_BULK</td>\n    </tr>\n    <tr>\n      <th>16132672</th>\n      <td>2019-11-19</td>\n      <td>Tue</td>\n      <td>17</td>\n      <td>1</td>\n      <td>882344</td>\n      <td>TRANSFER_VIB_ACCOUNT_BULK</td>\n    </tr>\n    <tr>\n      <th>16132673</th>\n      <td>2019-11-13</td>\n      <td>Wed</td>\n      <td>10</td>\n      <td>5</td>\n      <td>199908</td>\n      <td>RB_BILLPAY_PSTN</td>\n    </tr>\n    <tr>\n      <th>16132674</th>\n      <td>2019-12-10</td>\n      <td>Tue</td>\n      <td>11</td>\n      <td>6</td>\n      <td>199908</td>\n      <td>RB_BILLPAY_PSTN</td>\n    </tr>\n  </tbody>\n</table>\n<p>16132675 rows × 6 columns</p>\n</div>"
     },
     "metadata": {},
     "execution_count": 7
    }
   ],
   "source": [
    "df3 = pd.read_csv(paths[3], dtype={\"DAY_OF_WEEK\":\"category\",\"ACTIVITY_NAME\":\"category\"}, parse_dates=[0]) \n",
    "df3"
   ]
  },
  {
   "cell_type": "code",
   "execution_count": 14,
   "metadata": {},
   "outputs": [
    {
     "output_type": "execute_result",
     "data": {
      "text/plain": [
       "ACTIVITY_DATE      datetime64[ns]\n",
       "DAY_OF_WEEK              category\n",
       "ACTIVITY_HOUR               int64\n",
       "ACTIVITY_NO                 int64\n",
       "CUSTOMER_NUMBER             int64\n",
       "ACTIVITY_NAME            category\n",
       "dtype: object"
      ]
     },
     "metadata": {},
     "execution_count": 14
    }
   ],
   "source": [
    "df3.dtypes"
   ]
  },
  {
   "cell_type": "code",
   "execution_count": 22,
   "metadata": {},
   "outputs": [
    {
     "output_type": "execute_result",
     "data": {
      "text/plain": [
       "Index(['MB_INTEREST_RATE_VIEW', 'LOGIN', 'QUERY_ACCOUNT_INFORMATION',\n",
       "       'TRANSACTION_OVERVIEW_QUERY', 'LOGOUT', 'MB_SET_PIN', 'AUTHENTICATION',\n",
       "       'CHANGE_PASSWORD', 'TRANSFER_VIA_SML', 'MB_LOCATION_BRANCH_VIEW',\n",
       "       'LOGIN_FACEID', 'TRANSFER_VIA_PAYMENT_CENTER', 'TOPUP_MOBILE',\n",
       "       'MB_LOCATION_ATM_VIEW', 'MB_LOCATION_POS_VIEW',\n",
       "       'MB_ACCOUNT_QUICK_BALANCE', 'LOGIN_FINGER', 'MB_BILLPAY',\n",
       "       'TRANSFER_VIB_ACCOUNT', 'MB_CHANGE_PIN', 'MB_EXCHANGE_RATE_VIEW',\n",
       "       'MB_RESET_PIN', 'QUERY_CURRENT_ACCOUNT', 'TRANSACTION_DETAIL_QUERY',\n",
       "       'TRANSFER_VIA_SML_ACCOUNT', 'ACCOUNT_ADDRESS_BOOK_DELETE',\n",
       "       'ACCOUNT_ADDRESS_BOOK_UPDATE', 'CARD_EGIFT_REGISTER_ANNUALFEE',\n",
       "       'CARD_EGIFT_REGISTER_CASHBACK', 'CARD_EGIFT_REGISTER_REDEEM',\n",
       "       'EXPORT_ACCOUNT_STATEMENT_LOAN', 'QUERY_ACCOUNT_PORFOLIO',\n",
       "       'QUERY_LOAN_ACCOUNT', 'QUERY_MM_ACCOUNT', 'RB_BILLPAY_ADSL',\n",
       "       'RB_BILLPAY_HOMEPHONE', 'RB_BILLPAY_INSURANCE', 'RB_BILLPAY_MOBILE',\n",
       "       'RB_BILLPAY_PSTN', 'RB_BILLPAY_TELECOMMUNICATIONS', 'RB_BILLPAY_WATER',\n",
       "       'SET_PASSWORD', 'TRANSFER_INTERNATIONAL', 'TRANSFER_VIA_PHONENO',\n",
       "       'TRANSFER_VIB_ACCOUNT_BULK'],\n",
       "      dtype='object')"
      ]
     },
     "metadata": {},
     "execution_count": 22
    }
   ],
   "source": [
    "df3.ACTIVITY_NAME.cat.categories"
   ]
  },
  {
   "cell_type": "code",
   "execution_count": 11,
   "metadata": {},
   "outputs": [
    {
     "output_type": "execute_result",
     "data": {
      "text/plain": [
       "        ACTIVITY_DATE DAY_OF_WEEK  ACTIVITY_HOUR  ACTIVITY_NO  \\\n",
       "3          2019-01-02         Wed              9           27   \n",
       "2448885    2019-01-02         Wed              9            1   \n",
       "6087103    2019-01-02         Wed              9            4   \n",
       "8653233    2019-01-02         Wed              9            2   \n",
       "9732403    2019-01-02         Wed              9            1   \n",
       "...               ...         ...            ...          ...   \n",
       "40         2019-12-26         Thu             20            9   \n",
       "2448933    2019-12-26         Thu             20            4   \n",
       "6087147    2019-12-26         Thu             20            7   \n",
       "8653253    2019-12-26         Thu             20            4   \n",
       "9732447    2019-12-26         Thu             20            2   \n",
       "\n",
       "         CUSTOMER_NUMBER               ACTIVITY_NAME  \n",
       "3                 630178       MB_INTEREST_RATE_VIEW  \n",
       "2448885           630178                       LOGIN  \n",
       "6087103           630178   QUERY_ACCOUNT_INFORMATION  \n",
       "8653233           630178  TRANSACTION_OVERVIEW_QUERY  \n",
       "9732403           630178                      LOGOUT  \n",
       "...                  ...                         ...  \n",
       "40                630178       MB_INTEREST_RATE_VIEW  \n",
       "2448933           630178                       LOGIN  \n",
       "6087147           630178   QUERY_ACCOUNT_INFORMATION  \n",
       "8653253           630178  TRANSACTION_OVERVIEW_QUERY  \n",
       "9732447           630178                      LOGOUT  \n",
       "\n",
       "[234 rows x 6 columns]"
      ],
      "text/html": "<div>\n<style scoped>\n    .dataframe tbody tr th:only-of-type {\n        vertical-align: middle;\n    }\n\n    .dataframe tbody tr th {\n        vertical-align: top;\n    }\n\n    .dataframe thead th {\n        text-align: right;\n    }\n</style>\n<table border=\"1\" class=\"dataframe\">\n  <thead>\n    <tr style=\"text-align: right;\">\n      <th></th>\n      <th>ACTIVITY_DATE</th>\n      <th>DAY_OF_WEEK</th>\n      <th>ACTIVITY_HOUR</th>\n      <th>ACTIVITY_NO</th>\n      <th>CUSTOMER_NUMBER</th>\n      <th>ACTIVITY_NAME</th>\n    </tr>\n  </thead>\n  <tbody>\n    <tr>\n      <th>3</th>\n      <td>2019-01-02</td>\n      <td>Wed</td>\n      <td>9</td>\n      <td>27</td>\n      <td>630178</td>\n      <td>MB_INTEREST_RATE_VIEW</td>\n    </tr>\n    <tr>\n      <th>2448885</th>\n      <td>2019-01-02</td>\n      <td>Wed</td>\n      <td>9</td>\n      <td>1</td>\n      <td>630178</td>\n      <td>LOGIN</td>\n    </tr>\n    <tr>\n      <th>6087103</th>\n      <td>2019-01-02</td>\n      <td>Wed</td>\n      <td>9</td>\n      <td>4</td>\n      <td>630178</td>\n      <td>QUERY_ACCOUNT_INFORMATION</td>\n    </tr>\n    <tr>\n      <th>8653233</th>\n      <td>2019-01-02</td>\n      <td>Wed</td>\n      <td>9</td>\n      <td>2</td>\n      <td>630178</td>\n      <td>TRANSACTION_OVERVIEW_QUERY</td>\n    </tr>\n    <tr>\n      <th>9732403</th>\n      <td>2019-01-02</td>\n      <td>Wed</td>\n      <td>9</td>\n      <td>1</td>\n      <td>630178</td>\n      <td>LOGOUT</td>\n    </tr>\n    <tr>\n      <th>...</th>\n      <td>...</td>\n      <td>...</td>\n      <td>...</td>\n      <td>...</td>\n      <td>...</td>\n      <td>...</td>\n    </tr>\n    <tr>\n      <th>40</th>\n      <td>2019-12-26</td>\n      <td>Thu</td>\n      <td>20</td>\n      <td>9</td>\n      <td>630178</td>\n      <td>MB_INTEREST_RATE_VIEW</td>\n    </tr>\n    <tr>\n      <th>2448933</th>\n      <td>2019-12-26</td>\n      <td>Thu</td>\n      <td>20</td>\n      <td>4</td>\n      <td>630178</td>\n      <td>LOGIN</td>\n    </tr>\n    <tr>\n      <th>6087147</th>\n      <td>2019-12-26</td>\n      <td>Thu</td>\n      <td>20</td>\n      <td>7</td>\n      <td>630178</td>\n      <td>QUERY_ACCOUNT_INFORMATION</td>\n    </tr>\n    <tr>\n      <th>8653253</th>\n      <td>2019-12-26</td>\n      <td>Thu</td>\n      <td>20</td>\n      <td>4</td>\n      <td>630178</td>\n      <td>TRANSACTION_OVERVIEW_QUERY</td>\n    </tr>\n    <tr>\n      <th>9732447</th>\n      <td>2019-12-26</td>\n      <td>Thu</td>\n      <td>20</td>\n      <td>2</td>\n      <td>630178</td>\n      <td>LOGOUT</td>\n    </tr>\n  </tbody>\n</table>\n<p>234 rows × 6 columns</p>\n</div>"
     },
     "metadata": {},
     "execution_count": 11
    }
   ],
   "source": [
    "df3[df3[\"CUSTOMER_NUMBER\"] == 630178].sort_values([\"ACTIVITY_DATE\",\"ACTIVITY_HOUR\"])"
   ]
  },
  {
   "cell_type": "code",
   "execution_count": 8,
   "metadata": {},
   "outputs": [],
   "source": [
    "df3[df3[\"CUSTOMER_NUMBER\"] == 630178].sort_values([\"ACTIVITY_DATE\",\"ACTIVITY_HOUR\"]).to_csv(\"df3_630178.csv\")"
   ]
  },
  {
   "cell_type": "code",
   "execution_count": 13,
   "metadata": {},
   "outputs": [],
   "source": [
    "df3[df3[\"CUSTOMER_NUMBER\"] == 734991].sort_values([\"ACTIVITY_DATE\",\"ACTIVITY_HOUR\"]).to_csv(\"temp734991.csv\")"
   ]
  },
  {
   "cell_type": "code",
   "execution_count": null,
   "metadata": {},
   "outputs": [],
   "source": []
  }
 ]
}